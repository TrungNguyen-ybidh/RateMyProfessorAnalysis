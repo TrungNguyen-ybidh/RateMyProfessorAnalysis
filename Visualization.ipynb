{
 "cells": [
  {
   "cell_type": "code",
   "execution_count": null,
   "id": "b8456773",
   "metadata": {},
   "outputs": [],
   "source": [
    "import pandas as pd\n",
    "import altair as alt "
   ]
  },
  {
   "cell_type": "code",
   "execution_count": null,
   "id": "64a79137",
   "metadata": {},
   "outputs": [],
   "source": [
    "data = pd.read_csv('neu_rmp.csv')\n",
    "data.head(20)"
   ]
  },
  {
   "cell_type": "code",
   "execution_count": null,
   "id": "a63d552a",
   "metadata": {},
   "outputs": [],
   "source": [
    "rating_plot = alt.Chart(data).mark_circle(size=100).encode(\n",
    "    x=alt.X('Average Rating (Out of 5):Q', title='Average Rating'),\n",
    "    y=alt.Y('Number of Ratings:Q', title='Number of Ratings'),\n",
    "    color=alt.condition(\n",
    "        alt.datum['Average Rating (Out of 5)'] >= 4.5,  \n",
    "        alt.value('green'), \n",
    "        alt.value('red') \n",
    "    ),\n",
    "    tooltip=['First Name', 'Last Name','Department', 'Average Rating (Out of 5)', 'Number of Ratings']\n",
    ").properties(\n",
    "    title='The Distribution between Number of Ratings and Average Rating',\n",
    "    width=600,\n",
    "    height=400\n",
    ").interactive()\n",
    "\n",
    "rating_plot"
   ]
  },
  {
   "cell_type": "markdown",
   "id": "8a947fb8",
   "metadata": {},
   "source": [
    "### Explaination\n",
    "This code creates an interactive scatter plot that shows how departments' average ratings compare to the number of ratings they’ve received. Departments with ratings of 4 or higher are marked in green, and those with lower ratings are in red. The x-axis represents the average rating, and the y-axis shows the number of ratings. Based on the plot, it looks like higher-rated departments tend to have fewer ratings, while the lower-rated ones have more feedback. Overall, it gives a nice visual of how each department performs and how popular they are."
   ]
  },
  {
   "cell_type": "code",
   "execution_count": null,
   "id": "d44aadc9",
   "metadata": {},
   "outputs": [],
   "source": [
    "sorted_data = data.sort_values(by='Number of Ratings', ascending=False)\n",
    "bar_chart = alt.Chart(sorted_data.head(10)).mark_bar().encode(\n",
    "    x=alt.X('Number of Ratings:Q'),\n",
    "    y=alt.Y('Last Name:N', sort='-x'),\n",
    "    color=alt.Color('Average Rating (Out of 5):Q'),\n",
    "    tooltip=['First Name', 'Last Name', 'Department', 'Number of Ratings', 'Average Rating (Out of 5)']  \n",
    ").properties(\n",
    "    title='Top 10 Professors with the Most Ratings',\n",
    "    width=600,\n",
    "    height=400\n",
    ")\n",
    "\n",
    "bar_chart"
   ]
  },
  {
   "cell_type": "markdown",
   "id": "421ee009",
   "metadata": {},
   "source": [
    "### Explaination\n",
    "This code sorts the dataset by the number of ratings in order and selects the top 10 professors with the most ratings. Then creates a bar chart where the x-axis shows the number of ratings, and the y-axis displays the professor’s last name. The color of the bars is based on the average rating, with lighter blues for lower ratings and darker blues for higher ratings. When you hover over each bar, the tooltip shows more details like the professor’s first name, department, number of ratings, and average rating."
   ]
  },
  {
   "cell_type": "code",
   "execution_count": null,
   "id": "f3b293d0",
   "metadata": {},
   "outputs": [],
   "source": [
    "scatter_plot = alt.Chart(data).mark_circle(size=100).encode(\n",
    "    x=alt.X('Would Take Again (Percent):Q'),\n",
    "    y=alt.Y('Level of Difficulty (Out of 5):Q'),\n",
    "    color=alt.Color('Department:N'),  \n",
    "    tooltip=['First Name', 'Last Name','Department', 'Would Take Again (Percent)', 'Level of Difficulty (Out of 5)'] \n",
    ").properties(\n",
    "    title='Relationship Between Department, Would Take Again (%), and Level of Difficulty',\n",
    "    width=600,\n",
    "    height=400\n",
    ").interactive()\n",
    "\n",
    "\n",
    "scatter_plot"
   ]
  },
  {
   "cell_type": "markdown",
   "id": "d41bee62",
   "metadata": {},
   "source": [
    "### Explaination\n",
    "This code creates an interactive scatter plot that shows the relationship between departments, the percentage of students who would take the professor again, and the professor's level of difficulty. The x-axis represents the \"Would Take Again\" percentage, and the y-axis shows the \"Level of Difficulty.\" Each point is colored by department, making it easy to distinguish professors from different areas. When you hover over a point, the tooltip displays the department, the \"Would Take Again\" percentage, and the difficulty level. The chart is interactive, allowing you to zoom and explore the data further."
   ]
  },
  {
   "cell_type": "code",
   "execution_count": null,
   "id": "f2490405",
   "metadata": {},
   "outputs": [],
   "source": []
  }
 ],
 "metadata": {
  "kernelspec": {
   "display_name": "Python 3 (ipykernel)",
   "language": "python",
   "name": "python3"
  },
  "language_info": {
   "codemirror_mode": {
    "name": "ipython",
    "version": 3
   },
   "file_extension": ".py",
   "mimetype": "text/x-python",
   "name": "python",
   "nbconvert_exporter": "python",
   "pygments_lexer": "ipython3",
   "version": "3.11.4"
  }
 },
 "nbformat": 4,
 "nbformat_minor": 5
}
